{
  "nbformat": 4,
  "nbformat_minor": 0,
  "metadata": {
    "colab": {
      "name": "The IMDB dataset coursework.ipynb",
      "provenance": [],
      "collapsed_sections": []
    },
    "kernelspec": {
      "name": "python3",
      "display_name": "Python 3"
    }
  },
  "cells": [
    {
      "cell_type": "markdown",
      "metadata": {
        "id": "fWS6vl-ZzWl0"
      },
      "source": [
        "## Coursework from Deep Learning With Python by Francois Chollet.\n",
        "\n",
        "## We will work with the IMDB dataset: a set of 50,000 highly polarized reviews from the Internet Movie Database. They’re split into 25,000 reviews (sequences of words have been turned into sequences of integers, where each integer stands for a specific word in a dictionary), for training and 25,000 reviews for testing, each set consisting of 50% negative and 50% positive reviews."
      ]
    },
    {
      "cell_type": "code",
      "metadata": {
        "id": "o4jIY3Ozy7WG"
      },
      "source": [
        "# Loading the IMDB dataset\n",
        "\n",
        "from keras.datasets import imdb\n",
        "(train_data, train_labels), (test_data, test_labels) = imdb.load_data(num_words=10000)"
      ],
      "execution_count": 72,
      "outputs": []
    },
    {
      "cell_type": "markdown",
      "metadata": {
        "id": "Jsi9uIIZ1xsX"
      },
      "source": [
        "## The argument num_words=10000 means you’ll only keep the top 10,000 most frequently occurring words in the training data. Rare words will be discarded. This allows you to work with vector data of manageable size.\n",
        "\n",
        "## The variables train_data and test_data are lists of reviews; each review is a list of word indices (encoding a sequence of words). train_labels and test_labels are lists of 0s and 1s, where 0 stands for negative and 1 stands for positive:"
      ]
    },
    {
      "cell_type": "code",
      "metadata": {
        "id": "01jVzYxd1byn",
        "outputId": "b843ce5f-01e0-49cb-aad2-d57152dc7b66",
        "colab": {
          "base_uri": "https://localhost:8080/"
        }
      },
      "source": [
        "train_data[0]"
      ],
      "execution_count": 73,
      "outputs": [
        {
          "output_type": "execute_result",
          "data": {
            "text/plain": [
              "[1,\n",
              " 14,\n",
              " 22,\n",
              " 16,\n",
              " 43,\n",
              " 530,\n",
              " 973,\n",
              " 1622,\n",
              " 1385,\n",
              " 65,\n",
              " 458,\n",
              " 4468,\n",
              " 66,\n",
              " 3941,\n",
              " 4,\n",
              " 173,\n",
              " 36,\n",
              " 256,\n",
              " 5,\n",
              " 25,\n",
              " 100,\n",
              " 43,\n",
              " 838,\n",
              " 112,\n",
              " 50,\n",
              " 670,\n",
              " 2,\n",
              " 9,\n",
              " 35,\n",
              " 480,\n",
              " 284,\n",
              " 5,\n",
              " 150,\n",
              " 4,\n",
              " 172,\n",
              " 112,\n",
              " 167,\n",
              " 2,\n",
              " 336,\n",
              " 385,\n",
              " 39,\n",
              " 4,\n",
              " 172,\n",
              " 4536,\n",
              " 1111,\n",
              " 17,\n",
              " 546,\n",
              " 38,\n",
              " 13,\n",
              " 447,\n",
              " 4,\n",
              " 192,\n",
              " 50,\n",
              " 16,\n",
              " 6,\n",
              " 147,\n",
              " 2025,\n",
              " 19,\n",
              " 14,\n",
              " 22,\n",
              " 4,\n",
              " 1920,\n",
              " 4613,\n",
              " 469,\n",
              " 4,\n",
              " 22,\n",
              " 71,\n",
              " 87,\n",
              " 12,\n",
              " 16,\n",
              " 43,\n",
              " 530,\n",
              " 38,\n",
              " 76,\n",
              " 15,\n",
              " 13,\n",
              " 1247,\n",
              " 4,\n",
              " 22,\n",
              " 17,\n",
              " 515,\n",
              " 17,\n",
              " 12,\n",
              " 16,\n",
              " 626,\n",
              " 18,\n",
              " 2,\n",
              " 5,\n",
              " 62,\n",
              " 386,\n",
              " 12,\n",
              " 8,\n",
              " 316,\n",
              " 8,\n",
              " 106,\n",
              " 5,\n",
              " 4,\n",
              " 2223,\n",
              " 5244,\n",
              " 16,\n",
              " 480,\n",
              " 66,\n",
              " 3785,\n",
              " 33,\n",
              " 4,\n",
              " 130,\n",
              " 12,\n",
              " 16,\n",
              " 38,\n",
              " 619,\n",
              " 5,\n",
              " 25,\n",
              " 124,\n",
              " 51,\n",
              " 36,\n",
              " 135,\n",
              " 48,\n",
              " 25,\n",
              " 1415,\n",
              " 33,\n",
              " 6,\n",
              " 22,\n",
              " 12,\n",
              " 215,\n",
              " 28,\n",
              " 77,\n",
              " 52,\n",
              " 5,\n",
              " 14,\n",
              " 407,\n",
              " 16,\n",
              " 82,\n",
              " 2,\n",
              " 8,\n",
              " 4,\n",
              " 107,\n",
              " 117,\n",
              " 5952,\n",
              " 15,\n",
              " 256,\n",
              " 4,\n",
              " 2,\n",
              " 7,\n",
              " 3766,\n",
              " 5,\n",
              " 723,\n",
              " 36,\n",
              " 71,\n",
              " 43,\n",
              " 530,\n",
              " 476,\n",
              " 26,\n",
              " 400,\n",
              " 317,\n",
              " 46,\n",
              " 7,\n",
              " 4,\n",
              " 2,\n",
              " 1029,\n",
              " 13,\n",
              " 104,\n",
              " 88,\n",
              " 4,\n",
              " 381,\n",
              " 15,\n",
              " 297,\n",
              " 98,\n",
              " 32,\n",
              " 2071,\n",
              " 56,\n",
              " 26,\n",
              " 141,\n",
              " 6,\n",
              " 194,\n",
              " 7486,\n",
              " 18,\n",
              " 4,\n",
              " 226,\n",
              " 22,\n",
              " 21,\n",
              " 134,\n",
              " 476,\n",
              " 26,\n",
              " 480,\n",
              " 5,\n",
              " 144,\n",
              " 30,\n",
              " 5535,\n",
              " 18,\n",
              " 51,\n",
              " 36,\n",
              " 28,\n",
              " 224,\n",
              " 92,\n",
              " 25,\n",
              " 104,\n",
              " 4,\n",
              " 226,\n",
              " 65,\n",
              " 16,\n",
              " 38,\n",
              " 1334,\n",
              " 88,\n",
              " 12,\n",
              " 16,\n",
              " 283,\n",
              " 5,\n",
              " 16,\n",
              " 4472,\n",
              " 113,\n",
              " 103,\n",
              " 32,\n",
              " 15,\n",
              " 16,\n",
              " 5345,\n",
              " 19,\n",
              " 178,\n",
              " 32]"
            ]
          },
          "metadata": {
            "tags": []
          },
          "execution_count": 73
        }
      ]
    },
    {
      "cell_type": "code",
      "metadata": {
        "id": "Sin-zVUx2Pmo",
        "outputId": "6073a866-fe00-4ff4-e556-8e02c4cc2b8f",
        "colab": {
          "base_uri": "https://localhost:8080/"
        }
      },
      "source": [
        "train_labels[0]"
      ],
      "execution_count": 74,
      "outputs": [
        {
          "output_type": "execute_result",
          "data": {
            "text/plain": [
              "1"
            ]
          },
          "metadata": {
            "tags": []
          },
          "execution_count": 74
        }
      ]
    },
    {
      "cell_type": "markdown",
      "metadata": {
        "id": "vuiiB1Lq2lcK"
      },
      "source": [
        "## Because you’re restricting yourself to the top 10,000 most frequent words, no word index will exceed 10,000:"
      ]
    },
    {
      "cell_type": "code",
      "metadata": {
        "id": "mXeEcauB2cdE",
        "outputId": "268ba9ba-991e-4ff9-ab49-c5a99c84d15d",
        "colab": {
          "base_uri": "https://localhost:8080/"
        }
      },
      "source": [
        "max([max(sequence) for sequence in train_data])"
      ],
      "execution_count": 75,
      "outputs": [
        {
          "output_type": "execute_result",
          "data": {
            "text/plain": [
              "9999"
            ]
          },
          "metadata": {
            "tags": []
          },
          "execution_count": 75
        }
      ]
    },
    {
      "cell_type": "markdown",
      "metadata": {
        "id": "ZYQ9l_jE3s_C"
      },
      "source": [
        "# Preparing the data\n",
        "\n",
        "## You can’t feed lists of integers into a neural network. You have to turn your lists into tensors. There are two ways to do that:\n",
        "## Pad your lists so that they all have the same length, turn them into an integer tensor of shape (samples, word_indices), and then use as the first layer in your network a layer capable of handling such integer tensors (the Embedding layer).\n",
        "\n",
        "## Or, One-hot encode your lists to turn them into vectors of 0s and 1s. This would mean, for instance, turning the sequence [3, 5] into a 10,000-dimensional vector that would be all 0s except for indices 3 and 5, which would be 1s. Then you could use as the first layer in your network a Dense layer, capable of handling floating-point vector data.\n",
        "\n",
        "## Let’s go with the latter solution to vectorize the data, which you’ll do manually for maximum clarity."
      ]
    },
    {
      "cell_type": "code",
      "metadata": {
        "id": "OfRbxv9s3REv"
      },
      "source": [
        "# Encoding the integer sequences into a binary matrix\n",
        "\n",
        "import numpy as np\n",
        "\n",
        "def vectorize_sequences(sequences, dimension=10000):\n",
        "    # Create an all-zero matrix of shape (len(sequences), dimension)\n",
        "    results = np.zeros((len(sequences), dimension))\n",
        "    for i, sequence in enumerate(sequences):\n",
        "        results[i, sequence] = 1.  # set specific indices of results[i] to 1s\n",
        "    return results\n",
        "\n",
        "# Our vectorized training data\n",
        "x_train = vectorize_sequences(train_data)\n",
        "# Our vectorized test data\n",
        "x_test = vectorize_sequences(test_data)"
      ],
      "execution_count": 76,
      "outputs": []
    },
    {
      "cell_type": "code",
      "metadata": {
        "id": "nRzbrr7B73Ox",
        "outputId": "9b8275a3-258a-4882-f1e2-2d4886fe45f5",
        "colab": {
          "base_uri": "https://localhost:8080/"
        }
      },
      "source": [
        "x_train[0]"
      ],
      "execution_count": 77,
      "outputs": [
        {
          "output_type": "execute_result",
          "data": {
            "text/plain": [
              "array([0., 1., 1., ..., 0., 0., 0.])"
            ]
          },
          "metadata": {
            "tags": []
          },
          "execution_count": 77
        }
      ]
    },
    {
      "cell_type": "markdown",
      "metadata": {
        "id": "3FeoVB-O8Igp"
      },
      "source": [
        "## You should also vectorize your labels, which is straightforward."
      ]
    },
    {
      "cell_type": "code",
      "metadata": {
        "id": "Q_e7_boe8BNW"
      },
      "source": [
        "y_train = np.asarray(train_labels).astype('float32')\n",
        "y_test = np.asarray(test_labels).astype('float32')\n",
        "# Now the data is ready to be fed into a neural network."
      ],
      "execution_count": 78,
      "outputs": []
    },
    {
      "cell_type": "markdown",
      "metadata": {
        "id": "s2JxxwiL-3Nf"
      },
      "source": [
        "# Building your network\n",
        "\n",
        "## The input data is vectors, and the labels are scalars (1s and 0s): this is the easiest setup you’ll ever encounter. A type of network that performs well on such a problem is a simple stack of fully connected (Dense) layers with relu activations: Dense(16, activation='relu').\n",
        "\n",
        "## The intermediate layers will use relu as their activation function, and the final layer will use a sigmoid activation so as to output a probability (a score between 0 and 1, indicating how likely the sample is to have the target “1”: how likely the review is to be positive). A relu (rectified linear unit) is a function meant to zero out negative values, whereas a sigmoid “squashes” arbitrary values into the [0, 1] interval, outputting something that can be interpreted as a probability."
      ]
    },
    {
      "cell_type": "code",
      "metadata": {
        "id": "C2emnjKU9EYW"
      },
      "source": [
        "# The model definition\n",
        "\n",
        "from keras import models\n",
        "from keras import layers\n",
        "\n",
        "model = models.Sequential()\n",
        "model.add(layers.Dense(16, activation='relu', input_shape=(10000,)))\n",
        "model.add(layers.Dense(16, activation='relu'))\n",
        "model.add(layers.Dense(1, activation='sigmoid'))"
      ],
      "execution_count": 79,
      "outputs": []
    },
    {
      "cell_type": "markdown",
      "metadata": {
        "id": "7EF_dmG0C8td"
      },
      "source": [
        "## Finally, you need to choose a loss function and an optimizer. Because you’re facing a binary classification problem and the output of your network is a probability (you end your network with a single-unit layer with a sigmoid activation), it’s best to use the binary_crossentropy loss. It isn’t the only viable choice: you could use, for instance, mean_squared_error. But crossentropy is usually the best choice when you’re dealing with models that output probabilities. Crossentropy is a quantity from the field of Information Theory that measures the distance between probability distributions or, in this case, between the ground-truth distribution and your predictions.\n",
        "\n",
        "## Here’s the step where you configure the model with the rmsprop optimizer and the binary_crossentropy loss function. Note that you’ll also monitor accuracy during training."
      ]
    },
    {
      "cell_type": "code",
      "metadata": {
        "id": "qrpSnEAxBW08"
      },
      "source": [
        "# Compiling the model\n",
        "\n",
        "model.compile(optimizer='rmsprop',\n",
        "              loss='binary_crossentropy',\n",
        "              metrics=['acc'])"
      ],
      "execution_count": 80,
      "outputs": []
    },
    {
      "cell_type": "markdown",
      "metadata": {
        "id": "SQiUiGADWxpm"
      },
      "source": [
        "## Sometimes you may want to configure the parameters of your optimizer, or pass a custom loss function or metric function. This former can be done by passing an optimizer class instance as the optimizer argument:"
      ]
    },
    {
      "cell_type": "code",
      "metadata": {
        "id": "1qtoK8GrWkZL"
      },
      "source": [
        "from keras import optimizers\n",
        "\n",
        "model.compile(optimizer=optimizers.RMSprop(lr=0.001),\n",
        "              loss='binary_crossentropy',\n",
        "              metrics=['acc'])"
      ],
      "execution_count": 81,
      "outputs": []
    },
    {
      "cell_type": "markdown",
      "metadata": {
        "id": "i-A_12xlEv5f"
      },
      "source": [
        "# Validating your approach\n",
        "\n",
        "## In order to monitor during training the accuracy of the model on data it has never seen before, you’ll create a validation set by setting apart 10,000 samples from the original training data."
      ]
    },
    {
      "cell_type": "code",
      "metadata": {
        "id": "bj7hd2lAEPe3"
      },
      "source": [
        "# Setting aside a validation set\n",
        "\n",
        "x_val = x_train[:10000]\n",
        "partial_x_train = x_train[10000:]\n",
        "\n",
        "y_val = y_train[:10000]\n",
        "partial_y_train = y_train[10000:]"
      ],
      "execution_count": 82,
      "outputs": []
    },
    {
      "cell_type": "markdown",
      "metadata": {
        "id": "h9SEs1g9GJ-4"
      },
      "source": [
        "## You’ll now train the model for 20 epochs (20 iterations over all samples in the x_train and y_train tensors), in mini-batches of 512 samples. At the same time, you’ll monitor loss and accuracy on the 10,000 samples that you set apart. You do so by passing the validation data as the validation_data argument."
      ]
    },
    {
      "cell_type": "markdown",
      "metadata": {
        "id": "5US6UYTYIbsQ"
      },
      "source": [
        "## Note that the call to model.fit() returns a History object. This object has a member history, which is a dictionary containing data about everything that happened during training. Let’s look at it:"
      ]
    },
    {
      "cell_type": "code",
      "metadata": {
        "id": "TpV5V9ahnoq9",
        "outputId": "ae54bc26-6963-4ee7-8331-bb248edd76f6",
        "colab": {
          "base_uri": "https://localhost:8080/"
        }
      },
      "source": [
        "history = model.fit(partial_x_train,\n",
        "                    partial_y_train,\n",
        "                    epochs=20,\n",
        "                    batch_size=512,\n",
        "                    validation_data=(x_val, y_val))"
      ],
      "execution_count": 83,
      "outputs": [
        {
          "output_type": "stream",
          "text": [
            "Epoch 1/20\n",
            "30/30 [==============================] - 2s 51ms/step - loss: 0.5202 - acc: 0.7859 - val_loss: 0.4042 - val_acc: 0.8552\n",
            "Epoch 2/20\n",
            "30/30 [==============================] - 1s 33ms/step - loss: 0.3148 - acc: 0.9043 - val_loss: 0.3106 - val_acc: 0.8886\n",
            "Epoch 3/20\n",
            "30/30 [==============================] - 1s 33ms/step - loss: 0.2288 - acc: 0.9282 - val_loss: 0.3128 - val_acc: 0.8738\n",
            "Epoch 4/20\n",
            "30/30 [==============================] - 1s 33ms/step - loss: 0.1772 - acc: 0.9457 - val_loss: 0.2814 - val_acc: 0.8869\n",
            "Epoch 5/20\n",
            "30/30 [==============================] - 1s 33ms/step - loss: 0.1436 - acc: 0.9548 - val_loss: 0.2804 - val_acc: 0.8889\n",
            "Epoch 6/20\n",
            "30/30 [==============================] - 1s 33ms/step - loss: 0.1199 - acc: 0.9632 - val_loss: 0.3079 - val_acc: 0.8792\n",
            "Epoch 7/20\n",
            "30/30 [==============================] - 1s 32ms/step - loss: 0.0961 - acc: 0.9716 - val_loss: 0.3169 - val_acc: 0.8824\n",
            "Epoch 8/20\n",
            "30/30 [==============================] - 1s 33ms/step - loss: 0.0820 - acc: 0.9757 - val_loss: 0.3361 - val_acc: 0.8790\n",
            "Epoch 9/20\n",
            "30/30 [==============================] - 1s 33ms/step - loss: 0.0636 - acc: 0.9842 - val_loss: 0.4171 - val_acc: 0.8654\n",
            "Epoch 10/20\n",
            "30/30 [==============================] - 1s 33ms/step - loss: 0.0545 - acc: 0.9865 - val_loss: 0.3832 - val_acc: 0.8771\n",
            "Epoch 11/20\n",
            "30/30 [==============================] - 1s 33ms/step - loss: 0.0418 - acc: 0.9901 - val_loss: 0.4247 - val_acc: 0.8731\n",
            "Epoch 12/20\n",
            "30/30 [==============================] - 1s 33ms/step - loss: 0.0365 - acc: 0.9919 - val_loss: 0.4497 - val_acc: 0.8722\n",
            "Epoch 13/20\n",
            "30/30 [==============================] - 1s 33ms/step - loss: 0.0255 - acc: 0.9956 - val_loss: 0.4853 - val_acc: 0.8718\n",
            "Epoch 14/20\n",
            "30/30 [==============================] - 1s 33ms/step - loss: 0.0213 - acc: 0.9969 - val_loss: 0.5255 - val_acc: 0.8691\n",
            "Epoch 15/20\n",
            "30/30 [==============================] - 1s 33ms/step - loss: 0.0167 - acc: 0.9978 - val_loss: 0.5506 - val_acc: 0.8704\n",
            "Epoch 16/20\n",
            "30/30 [==============================] - 1s 34ms/step - loss: 0.0142 - acc: 0.9979 - val_loss: 0.5872 - val_acc: 0.8690\n",
            "Epoch 17/20\n",
            "30/30 [==============================] - 1s 33ms/step - loss: 0.0088 - acc: 0.9994 - val_loss: 0.6140 - val_acc: 0.8683\n",
            "Epoch 18/20\n",
            "30/30 [==============================] - 1s 33ms/step - loss: 0.0086 - acc: 0.9988 - val_loss: 0.6580 - val_acc: 0.8661\n",
            "Epoch 19/20\n",
            "30/30 [==============================] - 1s 33ms/step - loss: 0.0046 - acc: 0.9998 - val_loss: 0.6974 - val_acc: 0.8664\n",
            "Epoch 20/20\n",
            "30/30 [==============================] - 1s 32ms/step - loss: 0.0067 - acc: 0.9987 - val_loss: 0.7349 - val_acc: 0.8649\n"
          ],
          "name": "stdout"
        }
      ]
    },
    {
      "cell_type": "code",
      "metadata": {
        "id": "ix3bPir8H9zO",
        "outputId": "3a33dcfe-daf2-4ba7-a2b3-a3faf4f21bb8",
        "colab": {
          "base_uri": "https://localhost:8080/"
        }
      },
      "source": [
        "history_dict = history.history\n",
        "history_dict.keys()"
      ],
      "execution_count": 84,
      "outputs": [
        {
          "output_type": "execute_result",
          "data": {
            "text/plain": [
              "dict_keys(['loss', 'acc', 'val_loss', 'val_acc'])"
            ]
          },
          "metadata": {
            "tags": []
          },
          "execution_count": 84
        }
      ]
    },
    {
      "cell_type": "markdown",
      "metadata": {
        "id": "nr0dj0mfJACL"
      },
      "source": [
        "## The dictionary contains four entries: one per metric that was being monitored during training and during validation. In the following two listing, let’s use Matplotlib to plot the training and validation loss side by side, as well as the training and validation accuracy"
      ]
    },
    {
      "cell_type": "code",
      "metadata": {
        "id": "A_3XDrVIn7hN",
        "outputId": "4b36e6a0-e85b-4439-ee22-bb797be3b734",
        "colab": {
          "base_uri": "https://localhost:8080/",
          "height": 295
        }
      },
      "source": [
        "import matplotlib.pyplot as plt\n",
        "\n",
        "history_dict = history.history\n",
        "loss_values = history_dict['loss']\n",
        "val_loss_values = history_dict['val_loss']\n",
        "epochs = range(1, len(acc) + 1)\n",
        "plt.plot(epochs, loss_values, 'bo', label='Training loss')\n",
        "plt.plot(epochs, val_loss_values, 'b', label='Validation loss')\n",
        "plt.title('Training and validation loss')\n",
        "plt.xlabel('Epochs')\n",
        "plt.ylabel('Loss')\n",
        "plt.legend()\n",
        "plt.show()"
      ],
      "execution_count": 85,
      "outputs": [
        {
          "output_type": "display_data",
          "data": {
            "image/png": "[encoded data removed]",
            "text/plain": [
              "<Figure size 432x288 with 1 Axes>"
            ]
          },
          "metadata": {
            "tags": [],
            "needs_background": "light"
          }
        }
      ]
    },
    {
      "cell_type": "code",
      "metadata": {
        "id": "ctNarSe4oGuI",
        "outputId": "7a3e3948-01ab-4be2-dd4b-7a4a0d54848a",
        "colab": {
          "base_uri": "https://localhost:8080/",
          "height": 295
        }
      },
      "source": [
        "plt.clf()   # clear figure\n",
        "acc_values = history_dict['acc']\n",
        "val_acc_values = history_dict['val_acc']\n",
        "\n",
        "plt.plot(epochs, acc, 'bo', label='Training acc')\n",
        "plt.plot(epochs, val_acc, 'b', label='Validation acc')\n",
        "plt.title('Training and validation accuracy')\n",
        "plt.xlabel('Epochs')\n",
        "plt.ylabel('Loss')\n",
        "plt.legend()\n",
        "\n",
        "plt.show()"
      ],
      "execution_count": 86,
      "outputs": [
        {
          "output_type": "display_data",
          "data": {
            "image/png": "[encoded data removed]",
            "text/plain": [
              "<Figure size 432x288 with 1 Axes>"
            ]
          },
          "metadata": {
            "tags": [],
            "needs_background": "light"
          }
        }
      ]
    },
    {
      "cell_type": "markdown",
      "metadata": {
        "id": "TYIXQ0wvXyPZ"
      },
      "source": [
        "## Yours might be different!\n",
        "\n",
        "## As you can see, the training loss decreases with every epoch, and the training accuracy increases with every epoch. That’s what you would expect when running gradient descent optimization—the quantity you’re trying to minimize should be less with every iteration. But that isn’t the case for the validation loss and accuracy: they seem to peak at the fourthish epoch, and flat for the accuracy. This is an example of what we warned against earlier: a model that performs better on the training data isn’t necessarily a model that will do better on data it has never seen before. In precise terms, what you’re seeing is overfitting: after the second epoch, you’re overoptimizing on the training data, and you end up learning representations that are specific to the training data and don’t generalize to data outside of the training set.\n",
        "\n",
        "## In this case, to prevent overfitting, you could stop training after five epochs. In general, you can use a range of techniques to mitigate overfitting.\n",
        "\n"
      ]
    },
    {
      "cell_type": "code",
      "metadata": {
        "id": "xRYftagFTZEb",
        "outputId": "73780ce7-bb69-47fe-e2de-06b6ae3fae9a",
        "colab": {
          "base_uri": "https://localhost:8080/"
        }
      },
      "source": [
        "# Retraining a model from scratch\n",
        "\n",
        "model = models.Sequential()\n",
        "model.add(layers.Dense(16, activation='relu', input_shape=(10000,)))\n",
        "model.add(layers.Dense(16, activation='relu'))\n",
        "model.add(layers.Dense(1, activation='sigmoid'))\n",
        "model.compile(optimizer='rmsprop',\n",
        "loss='binary_crossentropy',\n",
        "metrics=['accuracy'])\n",
        "model.fit(x_train, y_train, epochs=4, batch_size=512)\n",
        "results = model.evaluate(x_test, y_test)"
      ],
      "execution_count": 87,
      "outputs": [
        {
          "output_type": "stream",
          "text": [
            "Epoch 1/4\n",
            "49/49 [==============================] - 1s 27ms/step - loss: 0.4502 - accuracy: 0.8246\n",
            "Epoch 2/4\n",
            "49/49 [==============================] - 1s 26ms/step - loss: 0.2570 - accuracy: 0.9090\n",
            "Epoch 3/4\n",
            "49/49 [==============================] - 1s 27ms/step - loss: 0.1965 - accuracy: 0.9291\n",
            "Epoch 4/4\n",
            "49/49 [==============================] - 1s 26ms/step - loss: 0.1599 - accuracy: 0.9427\n",
            "782/782 [==============================] - 1s 2ms/step - loss: 0.3004 - accuracy: 0.8816\n"
          ],
          "name": "stdout"
        }
      ]
    },
    {
      "cell_type": "code",
      "metadata": {
        "id": "FQkZRNtcgGHy",
        "outputId": "246c30a3-4a48-44dd-eba7-0b6997bed038",
        "colab": {
          "base_uri": "https://localhost:8080/"
        }
      },
      "source": [
        "results"
      ],
      "execution_count": 88,
      "outputs": [
        {
          "output_type": "execute_result",
          "data": {
            "text/plain": [
              "[0.3004418909549713, 0.881600022315979]"
            ]
          },
          "metadata": {
            "tags": []
          },
          "execution_count": 88
        }
      ]
    },
    {
      "cell_type": "markdown",
      "metadata": {
        "id": "OaUndz-nqbFB"
      },
      "source": [
        "## This fairly naive approach achieves an accuracy of 88%. With state-of-the-art approaches, you should be able to get close to 95%."
      ]
    },
    {
      "cell_type": "code",
      "metadata": {
        "id": "dRNr5iXiq0hB"
      },
      "source": [
        ""
      ],
      "execution_count": null,
      "outputs": []
    }
  ]
}